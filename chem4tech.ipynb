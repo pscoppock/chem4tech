{
 "cells": [
  {
   "cell_type": "markdown",
   "id": "dbb16732",
   "metadata": {
    "deletable": false
   },
   "source": [
    "<img align=\"left\" width=\"160\" src=\"./images/ggc_logo_01.png\">"
   ]
  },
  {
   "cell_type": "markdown",
   "id": "0be92f56",
   "metadata": {
    "deletable": false,
    "editable": false
   },
   "source": [
    "***\n",
    "<font color ='0c6142'  size=120> Chemistry </font>\n",
    "\n",
    "<font color = '708090'> for Technology Students at Georgia Gwinnett College </font>\n",
    "***"
   ]
  },
  {
   "cell_type": "markdown",
   "id": "04693e39",
   "metadata": {},
   "source": [
    "### Table of Contents <a class=\"anchor\" id=\"TOC\"></a>"
   ]
  },
  {
   "cell_type": "markdown",
   "id": "448b97ae",
   "metadata": {
    "deletable": false
   },
   "source": [
    "[Introduction to Notebooks](./chapters/ch00/chem4tech_00.ipynb)  \n",
    "\n",
    "[Chapter 1: Essential Ideas](#chapter_01)  \n",
    "\n",
    "[Chapter 2: Atoms, Molecules, and Ions](#chapter_02)  \n",
    "\n",
    "[Chapter 3: Composition of Substances and Solutions](#chapter_03)   \n",
    "\n",
    "[Chapter 4: Stoichiometry of Chemical Reactions](#chapter_04)   \n",
    "\n",
    "[Chapter 5: Thermochemistry](#chapter_05)   \n",
    "\n",
    "[Chapter 6: Electronic Structure and Periodic Properties of Elements](#chapter_06)   "
   ]
  },
  {
   "cell_type": "markdown",
   "id": "e66aa265",
   "metadata": {},
   "source": [
    "***\n",
    "### Chapter 1 - Materials and Measurements <a class=\"anchor\" id=\"chapter_01\"></a>\n",
    "[Back to Table of Contents](#TOC)"
   ]
  },
  {
   "cell_type": "markdown",
   "id": "2e2112f9",
   "metadata": {},
   "source": [
    "1.  Chemistry in Context  \n",
    "[notebook](./chapters/ch01/sections/chem4tech01_01.ipynb)  \n",
    "[textbook](https://openstax.org/books/chemistry-2e/pages/1-1-chemistry-in-context)\n",
    "\n",
    "\n",
    "2.  Phases and Classification of Matter  \n",
    "[notebook](./chapters/ch01/sections/chem4tech01_02.ipynb)  \n",
    "[textbook](https://openstax.org/books/chemistry-2e/pages/1-2-phases-and-classification-of-matter)\n",
    "\n",
    "\n",
    "3.  Physical and Chemical Properties  \n",
    "[notebook](./chapters/ch01/sections/chem4tech01_03.ipynb)  \n",
    "[textbook](https://openstax.org/books/chemistry-2e/pages/1-3-physical-and-chemical-properties)\n",
    "\n",
    "\n",
    "4.  Measurements  \n",
    "[notebook](./chapters/ch01/sections/chem4tech01_04.ipynb)  \n",
    "[textbook](https://openstax.org/books/chemistry-2e/pages/1-4-measurements)\n",
    "\n",
    "\n",
    "5.  Measurement Uncertainty, Accuracy, and Precision  \n",
    "[notebook](./chapters/ch01/sections/chem4tech01_05.ipynb)  \n",
    "[textbook](https://openstax.org/books/chemistry-2e/pages/1-5-measurement-uncertainty-accuracy-and-precision)\n",
    "\n",
    "\n",
    "6.  Mathematical Treatment of Measurement Results  \n",
    "[notebook](./chapters/ch01/sections/chem4tech01_06.ipynb)  \n",
    "[textbook](https://openstax.org/books/chemistry-2e/pages/1-6-mathematical-treatment-of-measurement-results)\n",
    "\n"
   ]
  },
  {
   "cell_type": "markdown",
   "id": "138bdfa5",
   "metadata": {},
   "source": [
    "***\n",
    "### Chapter 2 - Atoms, Molecules, and Ions <a class=\"anchor\" id=\"chapter_02\"></a>\n",
    "[Back to Table of Contents](#TOC)"
   ]
  },
  {
   "cell_type": "code",
   "execution_count": null,
   "id": "c148aa65",
   "metadata": {},
   "outputs": [],
   "source": []
  },
  {
   "cell_type": "markdown",
   "id": "e7f1fd4f",
   "metadata": {},
   "source": [
    "***\n",
    "### Chapter 3 - Composition of Substances and Solutions <a class=\"anchor\" id=\"chapter_03\"></a>\n",
    "[Back to Table of Contents](#TOC)"
   ]
  },
  {
   "cell_type": "code",
   "execution_count": null,
   "id": "183fc4d2",
   "metadata": {},
   "outputs": [],
   "source": []
  },
  {
   "cell_type": "markdown",
   "id": "ee9f9506",
   "metadata": {},
   "source": [
    "***\n",
    "### Chapter 4 - Stoichiometry of Chemical Reactions <a class=\"anchor\" id=\"chapter_04\"></a>\n",
    "[Back to Table of Contents](#TOC)"
   ]
  },
  {
   "cell_type": "code",
   "execution_count": null,
   "id": "c3df2ba3",
   "metadata": {},
   "outputs": [],
   "source": []
  },
  {
   "cell_type": "markdown",
   "id": "b877c847",
   "metadata": {},
   "source": [
    "***\n",
    "### Chapter 5 - Thermochemistry <a class=\"anchor\" id=\"chapter_05\"></a>\n",
    "[Back to Table of Contents](#TOC)"
   ]
  },
  {
   "cell_type": "code",
   "execution_count": null,
   "id": "1dc7364b",
   "metadata": {},
   "outputs": [],
   "source": []
  },
  {
   "cell_type": "markdown",
   "id": "bbf762ad",
   "metadata": {},
   "source": [
    "***\n",
    "### Chapter 6 - Electronic Structure and Periodic Properties of Elements <a class=\"anchor\" id=\"chapter_06\"></a>\n",
    "[Back to Table of Contents](#TOC)"
   ]
  },
  {
   "cell_type": "code",
   "execution_count": null,
   "id": "1c66c666",
   "metadata": {},
   "outputs": [],
   "source": []
  }
 ],
 "metadata": {
  "kernelspec": {
   "display_name": "Python 3 (ipykernel)",
   "language": "python",
   "name": "python3"
  },
  "language_info": {
   "codemirror_mode": {
    "name": "ipython",
    "version": 3
   },
   "file_extension": ".py",
   "mimetype": "text/x-python",
   "name": "python",
   "nbconvert_exporter": "python",
   "pygments_lexer": "ipython3",
   "version": "3.9.9"
  }
 },
 "nbformat": 4,
 "nbformat_minor": 5
}
