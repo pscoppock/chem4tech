{
 "cells": [
  {
   "cell_type": "markdown",
   "id": "dbb16732",
   "metadata": {
    "deletable": false
   },
   "source": [
    "<img align=\"left\" width=\"100\" src=\"./images/ggc_logo_01.png\">"
   ]
  },
  {
   "cell_type": "markdown",
   "id": "0be92f56",
   "metadata": {
    "deletable": false,
    "editable": false
   },
   "source": [
    "***\n",
    "<font color ='0c6142'  size=120> Chemistry </font>\n",
    "\n",
    "<font color = '708090'> for Technology Students at Georgia Gwinnett College </font>\n",
    "***"
   ]
  },
  {
   "cell_type": "markdown",
   "id": "448b97ae",
   "metadata": {
    "deletable": false
   },
   "source": [
    "[Introduction](./chapters/ch00/chem4ts_00.ipynb)  \n",
    "\n",
    "[Chapter 1: Materials and Measurements](./chapters/ch01/chem4ts_01.ipynb)  \n",
    "\n",
    "[Chapter 2: Atoms](./chapters/ch02/chem4ts_02.ipynb) \n",
    "\n",
    "[Chapter 3: Molecules](./chapters/ch03/chem4ts_03.ipynb)  "
   ]
  },
  {
   "cell_type": "code",
   "execution_count": null,
   "id": "0b6964ee",
   "metadata": {},
   "outputs": [],
   "source": []
  }
 ],
 "metadata": {
  "kernelspec": {
   "display_name": "Python 3 (ipykernel)",
   "language": "python",
   "name": "python3"
  },
  "language_info": {
   "codemirror_mode": {
    "name": "ipython",
    "version": 3
   },
   "file_extension": ".py",
   "mimetype": "text/x-python",
   "name": "python",
   "nbconvert_exporter": "python",
   "pygments_lexer": "ipython3",
   "version": "3.9.9"
  }
 },
 "nbformat": 4,
 "nbformat_minor": 5
}
