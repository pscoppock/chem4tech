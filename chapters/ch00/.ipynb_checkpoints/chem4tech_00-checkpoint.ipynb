{
 "cells": [
  {
   "cell_type": "markdown",
   "id": "535479c3",
   "metadata": {},
   "source": [
    "<font color ='0c6142'  size=6)> Chemistry </font> <font color ='708090'  size=3)> for Technology Students at GGC </font> "
   ]
  },
  {
   "cell_type": "markdown",
   "id": "5bc4ab57",
   "metadata": {},
   "source": [
    "***\n",
    "# Introduction"
   ]
  },
  {
   "cell_type": "markdown",
   "id": "87b58d7c",
   "metadata": {},
   "source": [
    "This notebook will be used to probe concepts and solve problems in chemistry.  You will refer to the [online textbook, Chemistry-2e](https://openstax.org/details/books/chemistry-2e), published by [OpenStax](https://openstax.org/), and other sources.\n",
    "\n",
    "Your __investigation__ in Chemistry will be  _with this notebook_ combined with your __development__ as an information technology student.  The combination is not arbitrary: many of the tools used by research chemists, indeed scientists in any discipline, are based on information technology.  \n",
    "\n",
    "Thus, a scientist with advanced computer skills has access to avenues otherwise inaccessible, and a computer programmer who has experience with domains in science such as biology or chemistry can offer extra value to industry.  At the end of this course - no matter what your direction -  you will be faster, stronger, and more insightful.  \n",
    "\n",
    "\n",
    "Let's start with an introduction to a few tools."
   ]
  },
  {
   "cell_type": "markdown",
   "id": "efcf7680",
   "metadata": {},
   "source": [
    "***\n",
    "### Python"
   ]
  },
  {
   "cell_type": "markdown",
   "id": "3c5d7619",
   "metadata": {},
   "source": [
    "We will be using a very intuitive, very popular, very powerful scripting language: Python.\n",
    "\n",
    "Let's look at a small and simple demonstration.  In the cell below, type `1+1` and then `shift` + `enter`."
   ]
  },
  {
   "cell_type": "code",
   "execution_count": null,
   "id": "59e73145",
   "metadata": {},
   "outputs": [],
   "source": []
  },
  {
   "cell_type": "markdown",
   "id": "79dba4a4",
   "metadata": {},
   "source": [
    "So you can see that the cells (which have Python running in the background) recognize numbers and some(?) mathematical operations.  Try more!\n",
    "\n",
    "What about words?  Ok.  Not so simple.  Computers recognize words as strings of characters or labels.  We will deal with those soon.  For now, let's get our first look at a string.\n",
    "\n",
    "In the cell below, type the following code:\n",
    "\n",
    "`\n",
    "print('Hello, World!')\n",
    "`\n",
    "\n",
    "and then `shift` + `enter`."
   ]
  },
  {
   "cell_type": "code",
   "execution_count": null,
   "id": "c75cfa29",
   "metadata": {},
   "outputs": [],
   "source": []
  },
  {
   "cell_type": "markdown",
   "id": "4c7b96f1",
   "metadata": {},
   "source": [
    "Now try it without the quotes.  Or try it with double quotes: `\"`, instead of single quotes `'`."
   ]
  },
  {
   "cell_type": "code",
   "execution_count": null,
   "id": "632f5f30",
   "metadata": {},
   "outputs": [],
   "source": []
  },
  {
   "cell_type": "markdown",
   "id": "8e19985d",
   "metadata": {},
   "source": [
    "These two exercises are just a taste, and may be too simple to grab your interest.  Hold on - we will get into some really elegant tools here, soon."
   ]
  },
  {
   "cell_type": "markdown",
   "id": "0060a9a3",
   "metadata": {},
   "source": [
    "Let's go to [Chapter 1](../ch01/chem4tech_01.ipynb)."
   ]
  },
  {
   "cell_type": "markdown",
   "id": "63a569d5",
   "metadata": {},
   "source": [
    "***"
   ]
  }
 ],
 "metadata": {
  "kernelspec": {
   "display_name": "Python 3 (ipykernel)",
   "language": "python",
   "name": "python3"
  },
  "language_info": {
   "codemirror_mode": {
    "name": "ipython",
    "version": 3
   },
   "file_extension": ".py",
   "mimetype": "text/x-python",
   "name": "python",
   "nbconvert_exporter": "python",
   "pygments_lexer": "ipython3",
   "version": "3.9.9"
  }
 },
 "nbformat": 4,
 "nbformat_minor": 5
}
