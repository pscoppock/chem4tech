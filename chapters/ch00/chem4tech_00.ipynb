{
 "cells": [
  {
   "cell_type": "markdown",
   "id": "535479c3",
   "metadata": {},
   "source": [
    "<font color ='0c6142'  size=6)> Chemistry </font> <font color ='708090'  size=3)> for Technology Students at GGC </font> "
   ]
  },
  {
   "cell_type": "markdown",
   "id": "5bc4ab57",
   "metadata": {},
   "source": [
    "# Introduction"
   ]
  },
  {
   "cell_type": "markdown",
   "id": "87b58d7c",
   "metadata": {},
   "source": [
    "The purpose of this work is to introduce technology students to Chemistry."
   ]
  },
  {
   "cell_type": "markdown",
   "id": "79772460",
   "metadata": {},
   "source": [
    "We will be using [Chemistry, 2ed](https://openstax.org/details/books/chemistry-2e) by [OpenStax](https://openstax.org/)."
   ]
  },
  {
   "cell_type": "code",
   "execution_count": null,
   "id": "e27cf58f",
   "metadata": {},
   "outputs": [],
   "source": []
  }
 ],
 "metadata": {
  "kernelspec": {
   "display_name": "Python 3 (ipykernel)",
   "language": "python",
   "name": "python3"
  },
  "language_info": {
   "codemirror_mode": {
    "name": "ipython",
    "version": 3
   },
   "file_extension": ".py",
   "mimetype": "text/x-python",
   "name": "python",
   "nbconvert_exporter": "python",
   "pygments_lexer": "ipython3",
   "version": "3.9.9"
  }
 },
 "nbformat": 4,
 "nbformat_minor": 5
}
