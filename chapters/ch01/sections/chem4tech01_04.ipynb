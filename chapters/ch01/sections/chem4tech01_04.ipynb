{
 "cells": [
  {
   "cell_type": "markdown",
   "id": "71a9e22b",
   "metadata": {},
   "source": [
    "<font color ='0c6142'  size=6)> Chemistry </font> <font color ='708090'  size=3)> for Technology Students at GGC </font> "
   ]
  },
  {
   "cell_type": "markdown",
   "id": "97048d38",
   "metadata": {},
   "source": [
    "<font color ='708090'  size=3)> Measurements </font>\n",
    "\n",
    "[Textbook: Chapter 1, section 4](https://openstax.org/books/chemistry-2e/pages/1-4-measurements)"
   ]
  },
  {
   "cell_type": "markdown",
   "id": "1d4abf15",
   "metadata": {},
   "source": [
    "### Numbers"
   ]
  },
  {
   "cell_type": "markdown",
   "id": "de13927b",
   "metadata": {},
   "source": [
    "We have been introduced to numbers.  What we _haven't_ yet discussed is the different _kinds_ of numbers.\n",
    "\n",
    "Before we get terms and definitions, let's think of approach it from a practical standpoint.\n",
    "\n",
    "Is it obvious that some things are measured necessarily with whole numbers?  For example, it makes no sense to talk about 1.05 _people_.  That term lacks meaning.  What about points in a hockey game.  There is no score such as 1 to 3.54.  When a teams scores a point, their total points goes immediately from $n$ to $n + 1$.\n",
    "\n",
    "Thus, we use counting numbers which introduce the idea of __integers__.  Integers are whole numbers; positive, negative and zero.\n",
    "\n",
    "Computers have a number _type_ called \"integers\".\n",
    "\n",
    "Try `print(type(12))`."
   ]
  },
  {
   "cell_type": "code",
   "execution_count": null,
   "id": "1da37304",
   "metadata": {},
   "outputs": [],
   "source": []
  },
  {
   "cell_type": "markdown",
   "id": "4051a6bc",
   "metadata": {},
   "source": [
    "### Measures"
   ]
  },
  {
   "cell_type": "markdown",
   "id": "3dacc377",
   "metadata": {},
   "source": [
    "Most measurements are very much _not_ like that.  You can easily imagine getting 4.34 gallons of gasoline at the gas station, right?  Or 2.47 pounds of catfish at the deli?\n",
    "\n",
    "Python has a way to deal with these numbers.  And they're called __floats__.  It turns out the difference between these numbers is not going to be a big deal in most applications, but it's a fundamental concept, and sometimes it matters.  Computers store integers and floats differently and use them differently, and when we are doing really big calculations, it could mean the difference between _can_ and _can't_.\n",
    "\n",
    "Try `print(type(3.14159))`."
   ]
  },
  {
   "cell_type": "code",
   "execution_count": null,
   "id": "2df18566",
   "metadata": {},
   "outputs": [],
   "source": []
  },
  {
   "cell_type": "markdown",
   "id": "d7c39680",
   "metadata": {},
   "source": [
    "What would you say if your friend told you he measured the diameter of a hair with a yardstick?  Nonsense, right?  Or the length of a cellphone with a car's odometer?\n",
    "\n",
    "In order to do that, he would have to take a cellphone and put it on the ground - hopefully his own.  Then he would have to drive over the phone, checking his odometer as the center of the wheel passed over the first edge, and then again as it passed over the far edge.\n",
    "\n",
    "What's the problem with those examples?  In both cases, the measurements exceed the limits of the apparatus.  Yardsticks aren't made to measure lengths smaller than the markings on the stick, let alone lengths much, much smaller.\n",
    "\n",
    "This is where _significant figures_ comes in.  The number of sig figs gives us a measure of how precise our measurement is.\n",
    "\n",
    "Python has a way of formatting strings, so when your calcuation makes an output, and you send it to a file, you can show how precisely your measurement was taken.\n",
    "\n",
    "`d = 1.00 # inches`  \n",
    "`pi = 3.1415926`  \n",
    "`c = pi*d`  \n",
    "`print (\"The circumference of the circle is {:.2f}\".format(c))`  \n",
    "\n",
    "Try it."
   ]
  },
  {
   "cell_type": "code",
   "execution_count": 5,
   "id": "e976a221",
   "metadata": {},
   "outputs": [
    {
     "name": "stdout",
     "output_type": "stream",
     "text": [
      "The circumference of the circle is 3.14 inches.\n"
     ]
    }
   ],
   "source": [
    "d = 1.00 # inches\n",
    "pi = 3.1415926\n",
    "c = pi*d\n",
    "print (\"The circumference of the circle is {:.2f} inches.\".format(c)) "
   ]
  },
  {
   "cell_type": "markdown",
   "id": "08cf60eb",
   "metadata": {},
   "source": [
    "## Exercises"
   ]
  },
  {
   "cell_type": "code",
   "execution_count": null,
   "id": "afef847c",
   "metadata": {},
   "outputs": [],
   "source": []
  },
  {
   "cell_type": "markdown",
   "id": "67b93396",
   "metadata": {},
   "source": [
    "***\n",
    "[Table of Contents](../../../chem4tech.ipynb)   \n",
    "[Chapter 1, section 5](../sections/chem4tech01_05.ipynb)"
   ]
  }
 ],
 "metadata": {
  "kernelspec": {
   "display_name": "Python 3 (ipykernel)",
   "language": "python",
   "name": "python3"
  },
  "language_info": {
   "codemirror_mode": {
    "name": "ipython",
    "version": 3
   },
   "file_extension": ".py",
   "mimetype": "text/x-python",
   "name": "python",
   "nbconvert_exporter": "python",
   "pygments_lexer": "ipython3",
   "version": "3.9.9"
  }
 },
 "nbformat": 4,
 "nbformat_minor": 5
}
