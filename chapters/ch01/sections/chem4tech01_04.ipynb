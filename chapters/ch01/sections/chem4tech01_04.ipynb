{
 "cells": [
  {
   "cell_type": "markdown",
   "id": "71a9e22b",
   "metadata": {},
   "source": [
    "<font color ='0c6142'  size=6)> Chemistry </font> <font color ='708090'  size=3)> for Technology Students at GGC </font> "
   ]
  },
  {
   "cell_type": "markdown",
   "id": "97048d38",
   "metadata": {},
   "source": [
    "<font color ='708090'  size=3)> Measurements </font>\n",
    "\n",
    "[Textbook: Chapter 1, section 4](https://openstax.org/books/chemistry-2e/pages/1-4-measurements)"
   ]
  },
  {
   "cell_type": "code",
   "execution_count": 1,
   "id": "763c3fdd",
   "metadata": {},
   "outputs": [
    {
     "ename": "NameError",
     "evalue": "name 'Integers' is not defined",
     "output_type": "error",
     "traceback": [
      "\u001b[0;31m---------------------------------------------------------------------------\u001b[0m",
      "\u001b[0;31mNameError\u001b[0m                                 Traceback (most recent call last)",
      "\u001b[0;32m/var/folders/mk/4nnjf_g10hx79nq9srkfnybr0000gp/T/ipykernel_63046/806470747.py\u001b[0m in \u001b[0;36m<module>\u001b[0;34m\u001b[0m\n\u001b[0;32m----> 1\u001b[0;31m \u001b[0mIntegers\u001b[0m \u001b[0;32mand\u001b[0m \u001b[0mfloats\u001b[0m\u001b[0;34m\u001b[0m\u001b[0;34m\u001b[0m\u001b[0m\n\u001b[0m",
      "\u001b[0;31mNameError\u001b[0m: name 'Integers' is not defined"
     ]
    }
   ],
   "source": [
    "Integers and floats"
   ]
  },
  {
   "cell_type": "markdown",
   "id": "67b93396",
   "metadata": {},
   "source": [
    "***\n",
    "[Table of Contents](../../../chem4tech.ipynb)  \n",
    "[Chapter 1](../chem4tech_01.ipynb)  \n",
    "[Chapter 1, section 5](../sections/chem4tech01_05.ipynb)"
   ]
  }
 ],
 "metadata": {
  "kernelspec": {
   "display_name": "Python 3 (ipykernel)",
   "language": "python",
   "name": "python3"
  },
  "language_info": {
   "codemirror_mode": {
    "name": "ipython",
    "version": 3
   },
   "file_extension": ".py",
   "mimetype": "text/x-python",
   "name": "python",
   "nbconvert_exporter": "python",
   "pygments_lexer": "ipython3",
   "version": "3.9.9"
  }
 },
 "nbformat": 4,
 "nbformat_minor": 5
}
