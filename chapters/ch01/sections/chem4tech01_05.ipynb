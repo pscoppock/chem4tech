{
 "cells": [
  {
   "cell_type": "markdown",
   "id": "71a9e22b",
   "metadata": {},
   "source": [
    "<font color ='0c6142'  size=6)> Chemistry </font> <font color ='708090'  size=3)> for Technology Students at GGC </font> "
   ]
  },
  {
   "cell_type": "markdown",
   "id": "97048d38",
   "metadata": {},
   "source": [
    "<font color ='708090'  size=3)> Measurement Uncertainty, Accuracy, and Precision </font>\n",
    "\n",
    "[Textbook: Chapter 1, section 5](https://openstax.org/books/chemistry-2e/pages/1-5-measurement-uncertainty-accuracy-and-precision)"
   ]
  },
  {
   "cell_type": "markdown",
   "id": "4051a6bc",
   "metadata": {},
   "source": [
    "### Measurement Uncertainty"
   ]
  },
  {
   "cell_type": "markdown",
   "id": "3dacc377",
   "metadata": {},
   "source": [
    "Most measurements are very much _not_ like that.  You can easily imagine getting 4.34 gallons of gasoline at the gas station, right?  Or 2.47 pounds of catfish at the deli?\n",
    "\n",
    "Python has a way to deal with these numbers.  And they're called __floats__.  It turns out the difference between these numbers is not going to be a big deal in most applications, but it's a fundamental concept, and sometimes it matters.  Computers store integers and floats differently and use them differently, and when we are doing really big calculations, it could mean the difference between _can_ and _can't_.\n",
    "\n",
    "Try `print(type(3.14159))`."
   ]
  },
  {
   "cell_type": "code",
   "execution_count": null,
   "id": "2df18566",
   "metadata": {},
   "outputs": [],
   "source": []
  },
  {
   "cell_type": "markdown",
   "id": "d7c39680",
   "metadata": {},
   "source": [
    "What would you say if your friend told you he measured the diameter of a hair with a yardstick?  Nonsense, right?  Or the length of a cellphone with a car's odometer?\n",
    "\n",
    "In order to do that, he would have to take a cellphone and put it on the ground - hopefully his own.  Then he would have to drive over the phone, checking his odometer as the center of the wheel passed over the first edge, and then again as it passed over the far edge.\n",
    "\n",
    "What's the problem with those examples?  Besides the fact dude just ruined his cellphone, in both cases, the measurements exceed the limits of the apparatus.  Yardsticks aren't made to measure lengths smaller than the markings on the stick, let alone lengths much, much smaller.\n",
    "\n",
    "This is where _significant figures_ comes in.  The number of sig figs gives us a measure of how precise our measurement is.\n",
    "\n",
    "Python has a way of formatting strings, so when your calcuation makes an output, and you send it to a file, you can show how precisely your measurement was taken.\n",
    "\n",
    "`d = 1.00 # inches`  \n",
    "`pi = 3.1415926`  \n",
    "`c = pi*d`  \n",
    "`print (\"The circumference of the circle is {:.2f}\".format(c))`  \n",
    "\n",
    "Try it."
   ]
  },
  {
   "cell_type": "code",
   "execution_count": 1,
   "id": "e976a221",
   "metadata": {},
   "outputs": [
    {
     "name": "stdout",
     "output_type": "stream",
     "text": [
      "The circumference of the circle is 3.14 inches.\n"
     ]
    }
   ],
   "source": [
    "d = 1.00 # inches\n",
    "pi = 3.1415926\n",
    "c = pi*d\n",
    "print (\"The circumference of the circle is {:.2f} inches.\".format(c)) "
   ]
  },
  {
   "cell_type": "markdown",
   "id": "08cf60eb",
   "metadata": {},
   "source": [
    "## Exercises"
   ]
  },
  {
   "cell_type": "markdown",
   "id": "58f9de4e",
   "metadata": {},
   "source": [
    "1.  In the last example above, the circumference of a circle is given to 2 decimal places - or 3 significant figures.  Suppose we had a way of measuring the diameter to a much higher precision.  Namely, suppose we knew it was 1.0000 inches.  Copy the code and alter it so that this is reflected in the output string."
   ]
  },
  {
   "cell_type": "code",
   "execution_count": null,
   "id": "3231311c",
   "metadata": {},
   "outputs": [],
   "source": []
  },
  {
   "cell_type": "markdown",
   "id": "527b5ea1",
   "metadata": {},
   "source": [
    "2.  Set two variables, `exact_nums` and `uncertain_nums`.  Go to your textbook and draft good definitions of those."
   ]
  },
  {
   "cell_type": "code",
   "execution_count": null,
   "id": "1d49c29e",
   "metadata": {},
   "outputs": [],
   "source": []
  },
  {
   "cell_type": "markdown",
   "id": "67b93396",
   "metadata": {},
   "source": [
    "***\n",
    "[Table of Contents](../../../chem4tech.ipynb)   \n",
    "[Chapter 1, section 6](../sections/chem4tech01_06.ipynb)"
   ]
  }
 ],
 "metadata": {
  "kernelspec": {
   "display_name": "Python 3 (ipykernel)",
   "language": "python",
   "name": "python3"
  },
  "language_info": {
   "codemirror_mode": {
    "name": "ipython",
    "version": 3
   },
   "file_extension": ".py",
   "mimetype": "text/x-python",
   "name": "python",
   "nbconvert_exporter": "python",
   "pygments_lexer": "ipython3",
   "version": "3.9.9"
  }
 },
 "nbformat": 4,
 "nbformat_minor": 5
}
