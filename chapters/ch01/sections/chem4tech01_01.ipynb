{
 "cells": [
  {
   "cell_type": "markdown",
   "id": "5e65aabe",
   "metadata": {},
   "source": [
    "<font color ='0c6142'  size=6)> Chemistry </font> <font color ='708090'  size=3)> for Technology Students at GGC </font> "
   ]
  },
  {
   "cell_type": "markdown",
   "id": "8695dbf6",
   "metadata": {},
   "source": [
    "<font color ='708090'  size=3)> Chapter 1, section 1 </font> "
   ]
  },
  {
   "cell_type": "markdown",
   "id": "a59f1792",
   "metadata": {},
   "source": [
    "Before we get to our main subject (Chemistry!), let's get a real look at our first coding tool: numbers.\n",
    "\n",
    "You saw in the introduction that using computer code to add numbers is very intuitive.  \n",
    ">1. `1+1`  \n",
    ">2. `shift` + `enter`  \n",
    "\n",
    "gives you just what you thought it might.\n",
    "\n",
    "So let's look at some more operations.  Try `2 + 8 * 3` (and then `shift` + `enter`)."
   ]
  },
  {
   "cell_type": "code",
   "execution_count": null,
   "id": "9c2f3b41",
   "metadata": {},
   "outputs": [],
   "source": []
  },
  {
   "cell_type": "markdown",
   "id": "284fcbb4",
   "metadata": {},
   "source": [
    "Then `(2 + 8) * 3`:"
   ]
  },
  {
   "cell_type": "code",
   "execution_count": null,
   "id": "f290fc3a",
   "metadata": {},
   "outputs": [],
   "source": []
  },
  {
   "cell_type": "markdown",
   "id": "cbb7d9ae",
   "metadata": {},
   "source": [
    "Is that what you expected?"
   ]
  },
  {
   "cell_type": "markdown",
   "id": "dd70bdcf",
   "metadata": {},
   "source": [
    "Ok.  So maybe you can guess full complement of primary operators: `+`, `-`, `*`, and `/`.  But there's one that calculators use, `^`, that Python doesn't.  Instead, for exponents, `**` is used.  Check it out.  \n",
    "\n",
    "What is $4^{3}$?  \n",
    "\n",
    "So try `4**3` in the cell below.  (And don't forget `shift` + `enter`!)"
   ]
  },
  {
   "cell_type": "code",
   "execution_count": null,
   "id": "7e26b236",
   "metadata": {},
   "outputs": [],
   "source": []
  },
  {
   "cell_type": "markdown",
   "id": "3258f34f",
   "metadata": {},
   "source": [
    "The simplest piece of information is a number, and you've got a start with those.  But as a human, you're probably pretty comfortable with words, too.  Unfortunately, computers aren't as good you.  They have to be _told_ a string of characters is a word.  \n",
    "\n",
    "There are a lot of words (strings!) that are pre-programmed into the language of Python.  But if you want to work with a word yourself, you're going to have to tell the computer - in your favorite language - that the word is a \"string\".  Here's an example.\n",
    "\n",
    "`central_science = 'Chemistry'`\n",
    "\n",
    "We called it \"variable\" because we set a term, in this case `central_science` to a value (a string).  It turns out there are people who think that Chemistry is at the center of everything.  Maybe you could argue that Computer Science is really the best value for that variable, right?\n",
    "\n",
    "Suppose you want to claim that the central science - that is, the science that ties all other sciences together - is Computer Science.  In the cell below, __set the variable as such__, and then, in a separate line, type:\n",
    "\n",
    "`print(central_science)`, and then `shift` + `enter`."
   ]
  },
  {
   "cell_type": "code",
   "execution_count": null,
   "id": "d21d6ba8",
   "metadata": {},
   "outputs": [],
   "source": []
  },
  {
   "cell_type": "markdown",
   "id": "69203c57",
   "metadata": {},
   "source": [
    "Pick out one or two more facts from the [textbook, chapter 1, section 1](https://openstax.org/books/chemistry-2e/pages/1-1-chemistry-in-context), and think of good (brief but descriptive) variable names, set, and print below."
   ]
  },
  {
   "cell_type": "raw",
   "id": "8df9708c",
   "metadata": {},
   "source": []
  },
  {
   "cell_type": "markdown",
   "id": "fae93e8a",
   "metadata": {},
   "source": [
    "***"
   ]
  },
  {
   "cell_type": "markdown",
   "id": "7fb6f133",
   "metadata": {},
   "source": [
    "[Table of Contents](../../../chem4tech.ipynb)  \n",
    "[Chapter 1](../chem4tech_01.ipynb)  \n",
    "[Chapter 1, section 2](../sections/chem4tech01_02.ipynb)"
   ]
  }
 ],
 "metadata": {
  "kernelspec": {
   "display_name": "Python 3 (ipykernel)",
   "language": "python",
   "name": "python3"
  },
  "language_info": {
   "codemirror_mode": {
    "name": "ipython",
    "version": 3
   },
   "file_extension": ".py",
   "mimetype": "text/x-python",
   "name": "python",
   "nbconvert_exporter": "python",
   "pygments_lexer": "ipython3",
   "version": "3.9.9"
  }
 },
 "nbformat": 4,
 "nbformat_minor": 5
}
