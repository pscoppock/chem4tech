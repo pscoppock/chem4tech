{
 "cells": [
  {
   "cell_type": "markdown",
   "id": "5e65aabe",
   "metadata": {},
   "source": [
    "<font color ='0c6142'  size=6)> Chemistry </font> <font color ='708090'  size=3)> for Technology Students at GGC </font> "
   ]
  },
  {
   "cell_type": "markdown",
   "id": "8695dbf6",
   "metadata": {},
   "source": [
    "<font color ='708090'  size=4)> Classification of Matter </font> \n",
    "\n",
    "\n",
    "[Textbook: Chapter 1, section 2](https://openstax.org/books/chemistry-2e/pages/1-2-phases-and-classification-of-matter)"
   ]
  },
  {
   "cell_type": "markdown",
   "id": "76d4f015",
   "metadata": {},
   "source": [
    "Let's look at another feature of strings.  You've already seen `1 + 1`, and you probably can do that problem in your head.  (That's a joke.)  So you might easily guess what Python will output with `print(1 + 1)`.  \n",
    "\n",
    "But can you guess what Python is going to do with `print('1 + 1')`  What about `print('1' + '1')`?  There may be a surprise waiting for you in that last one."
   ]
  },
  {
   "cell_type": "code",
   "execution_count": null,
   "id": "491a10e2",
   "metadata": {},
   "outputs": [],
   "source": []
  },
  {
   "cell_type": "markdown",
   "id": "209808ff",
   "metadata": {},
   "source": [
    "Coders call it _concatenation_.  Concatentating strings is just taping them together end-to-end.\n",
    "\n",
    "`a = 'Fred'`  \n",
    "`b = 'Skinner'`  \n",
    "`c = 'is a fictitious person.'`  \n",
    "`d = 'Or at least the one I know is.'`\n",
    "\n",
    "Try `print(a + b + c + d)`"
   ]
  },
  {
   "cell_type": "code",
   "execution_count": 1,
   "id": "9961601d",
   "metadata": {},
   "outputs": [],
   "source": [
    "a = 'Fred'\n",
    "b = 'Skinner'\n",
    "c = 'is a fictitious person.'\n",
    "d = 'Or at least the one I know is.'"
   ]
  },
  {
   "cell_type": "code",
   "execution_count": 2,
   "id": "5be59b11",
   "metadata": {},
   "outputs": [
    {
     "name": "stdout",
     "output_type": "stream",
     "text": [
      "FredSkinneris a fictitious person.Or at least the one I know is.\n"
     ]
    }
   ],
   "source": [
    "print(a+b+c+d)"
   ]
  },
  {
   "cell_type": "markdown",
   "id": "72fc0e05",
   "metadata": {},
   "source": [
    "You like that?  Want to make any changes?  Have at it.\n",
    "\n"
   ]
  },
  {
   "cell_type": "markdown",
   "id": "a59f1792",
   "metadata": {},
   "source": [
    "So you've seen numbers and strings.  Let's look at __graphics__.  We will explain a lot more later on, but for now enter the following code in the cell below.\n",
    "\n",
    "<code>\n",
    "from matplotlib import pyplot as plt\n",
    "labels = ['Solids', 'Liquids','Gases']\n",
    "percents = (85.6, 2.2, 12.2)\n",
    "plt.title('Naturally Occurring Elements')\n",
    "plt.pie(percents, labels=labels,\n",
    "explode=(0, 0.2, 0))\n",
    "plt.axis('equal')\n",
    "</code>"
   ]
  },
  {
   "cell_type": "code",
   "execution_count": 1,
   "id": "9c2f3b41",
   "metadata": {},
   "outputs": [
    {
     "data": {
      "text/plain": [
       "(-1.106591539900507,\n",
       " 1.1003139472704666,\n",
       " -1.1010344767577331,\n",
       " 1.106634148119129)"
      ]
     },
     "execution_count": 1,
     "metadata": {},
     "output_type": "execute_result"
    },
    {
     "data": {
      "image/png": "[encoded data removed]",
      "text/plain": [
       "<Figure size 432x288 with 1 Axes>"
      ]
     },
     "metadata": {},
     "output_type": "display_data"
    }
   ],
   "source": [
    "from matplotlib import pyplot as plt\n",
    "labels = ['Solids', 'Liquids','Gases']\n",
    "percents = (85.6, 2.2, 12.2)\n",
    "plt.title('Naturally Occurring Elements')\n",
    "plt.pie(percents, labels=labels,\n",
    "explode=(0, 0.2, 0))\n",
    "plt.axis('equal')"
   ]
  },
  {
   "cell_type": "markdown",
   "id": "f866bbce",
   "metadata": {},
   "source": [
    "Wow.  Gorgeous, no?  "
   ]
  },
  {
   "cell_type": "markdown",
   "id": "88e2bce7",
   "metadata": {},
   "source": [
    "## Excercises"
   ]
  },
  {
   "cell_type": "markdown",
   "id": "d6149270",
   "metadata": {},
   "source": [
    "1. Go to the [textbook, chapter 1, section 2](https://openstax.org/books/chemistry-2e/pages/1-2-phases-and-classification-of-matter), find some information that is best described with a pie chart.  Use the code shown above as a template to illustrate."
   ]
  },
  {
   "cell_type": "code",
   "execution_count": null,
   "id": "e8e35bba",
   "metadata": {},
   "outputs": [],
   "source": []
  },
  {
   "cell_type": "markdown",
   "id": "d42101e8",
   "metadata": {},
   "source": [
    "2.  Set several strings:\n",
    "    1. `a = 'Gonna let'`,\n",
    "    2. `b = 'Chemistry'`,\n",
    "    3. `c = 'take away my'`, \n",
    "    4. `d = 'pain.'`,\n",
    "    5. `e = 'Python'`, and\n",
    "    6. `f = ' '`.\n",
    "    \n",
    "    Concatenate these strings and print either,\n",
    "    \n",
    "    `Gonna let Chemistry take away my Python pain.` or\n",
    "    \n",
    "    `Gonna let Python take away my Chemistry pain.`.  Whichever you prefer. ;)\n",
    "    "
   ]
  },
  {
   "cell_type": "code",
   "execution_count": null,
   "id": "9ed4f892",
   "metadata": {},
   "outputs": [],
   "source": []
  },
  {
   "cell_type": "markdown",
   "id": "fae93e8a",
   "metadata": {},
   "source": [
    "***"
   ]
  },
  {
   "cell_type": "markdown",
   "id": "7fb6f133",
   "metadata": {},
   "source": [
    "[Table of Contents](../../../chem4tech.ipynb)  \n",
    "[Chapter 1](../chem4tech_01.ipynb)  \n",
    "[Chapter 1, section 3](../sections/chem4tech01_03.ipynb)"
   ]
  }
 ],
 "metadata": {
  "kernelspec": {
   "display_name": "Python 3 (ipykernel)",
   "language": "python",
   "name": "python3"
  },
  "language_info": {
   "codemirror_mode": {
    "name": "ipython",
    "version": 3
   },
   "file_extension": ".py",
   "mimetype": "text/x-python",
   "name": "python",
   "nbconvert_exporter": "python",
   "pygments_lexer": "ipython3",
   "version": "3.9.9"
  }
 },
 "nbformat": 4,
 "nbformat_minor": 5
}
