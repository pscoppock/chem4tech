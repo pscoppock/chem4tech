{
 "cells": [
  {
   "cell_type": "markdown",
   "id": "5e65aabe",
   "metadata": {},
   "source": [
    "<font color ='0c6142'  size=6)> Chemistry </font> <font color ='708090'  size=3)> for Technology Students at GGC </font> "
   ]
  },
  {
   "cell_type": "markdown",
   "id": "8695dbf6",
   "metadata": {},
   "source": [
    "<font color ='708090'  size=3)> Chapter 1, section 1 </font> "
   ]
  },
  {
   "cell_type": "markdown",
   "id": "a59f1792",
   "metadata": {},
   "source": [
    "Before we get to our main subject (Chemistry!), let's get a real look at our first coding tool: numbers.\n",
    "\n",
    "You saw in the introduction that using computer code to add numbers is very intuitive.  \n",
    ">1. `1+1`  \n",
    ">2. `shift` + `enter`  \n",
    "\n",
    "gives you just what you thought it might.\n",
    "\n",
    "So let's look at some more operations.  Try `2 + 8 * 3` (and then `shift` + `enter`)."
   ]
  },
  {
   "cell_type": "code",
   "execution_count": null,
   "id": "9c2f3b41",
   "metadata": {},
   "outputs": [],
   "source": []
  },
  {
   "cell_type": "markdown",
   "id": "284fcbb4",
   "metadata": {},
   "source": [
    "Then `(2 + 8) * 3`:"
   ]
  },
  {
   "cell_type": "code",
   "execution_count": null,
   "id": "f290fc3a",
   "metadata": {},
   "outputs": [],
   "source": []
  },
  {
   "cell_type": "markdown",
   "id": "cbb7d9ae",
   "metadata": {},
   "source": [
    "Is that what you expected?"
   ]
  },
  {
   "cell_type": "markdown",
   "id": "dd70bdcf",
   "metadata": {},
   "source": [
    "Ok.  So maybe you can guess full complement of primary operators: `+`, `-`, `*`, and `/`.  But there's one that calculators use, `^`, that Python doesn't.  Instead, for exponents, `**` is used.  Check it out.  \n",
    "\n",
    "What is $4^{3}$?  \n",
    "\n",
    "So try `4**3` in the cell below.  (And don't forget `shift` + `enter`!)"
   ]
  },
  {
   "cell_type": "code",
   "execution_count": null,
   "id": "7e26b236",
   "metadata": {},
   "outputs": [],
   "source": []
  },
  {
   "cell_type": "markdown",
   "id": "fae93e8a",
   "metadata": {},
   "source": [
    "***"
   ]
  },
  {
   "cell_type": "markdown",
   "id": "1721a1a1",
   "metadata": {},
   "source": [
    "Alright: enough with __numbers__ for now.  \n",
    "\n",
    "Let's look at __graphics__.  We will explain a lot more later on, but for now enter the following code in the cell below.  \n",
    "<code>\n",
    "    from matplotlib import pyplot as plt\n",
    "    labels = ['Solids', 'Liquids','Gases']\n",
    "    percents = (85.6, 2.2, 12.2)\n",
    "    plt.title('Naturally Occurring Elements')\n",
    "    plt.pie(percents, labels=labels,\n",
    "    explode=(0, 0.2, 0))\n",
    "    plt.axis('equal')\n",
    "</code>"
   ]
  },
  {
   "cell_type": "code",
   "execution_count": null,
   "id": "952960ed",
   "metadata": {},
   "outputs": [],
   "source": []
  },
  {
   "cell_type": "markdown",
   "id": "2f409bc5",
   "metadata": {},
   "source": [
    "Wow.  Gorgeous, no?  \n",
    "\n",
    "So go to the [textbook, chapter 1, section 2](https://openstax.org/books/chemistry-2e/pages/1-2-phases-and-classification-of-matter), find some information that is best described with a pie chart.  Use the code shown above as a template to illustrate."
   ]
  },
  {
   "cell_type": "markdown",
   "id": "7fb6f133",
   "metadata": {},
   "source": [
    "[Table of Contents](../../../chem4tech.ipynb)  \n",
    "[Chapter 1](../chem4tech_01.ipynb)  \n",
    "[Chapter 1, section 2](../sections/chem4tech01_02.ipynb)"
   ]
  }
 ],
 "metadata": {
  "kernelspec": {
   "display_name": "Python 3 (ipykernel)",
   "language": "python",
   "name": "python3"
  },
  "language_info": {
   "codemirror_mode": {
    "name": "ipython",
    "version": 3
   },
   "file_extension": ".py",
   "mimetype": "text/x-python",
   "name": "python",
   "nbconvert_exporter": "python",
   "pygments_lexer": "ipython3",
   "version": "3.9.9"
  }
 },
 "nbformat": 4,
 "nbformat_minor": 5
}
