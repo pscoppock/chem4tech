{
 "cells": [
  {
   "cell_type": "markdown",
   "id": "5e65aabe",
   "metadata": {},
   "source": [
    "<font color ='0c6142'  size=6)> Chemistry </font> <font color ='708090'  size=3)> for Technology Students at GGC </font> "
   ]
  },
  {
   "cell_type": "markdown",
   "id": "89b89ca0",
   "metadata": {},
   "source": [
    "In the cell below, \n",
    "* type `1+1`, then\n",
    "* click `shift` + `enter`."
   ]
  },
  {
   "cell_type": "code",
   "execution_count": null,
   "id": "18d1ab71",
   "metadata": {},
   "outputs": [],
   "source": []
  },
  {
   "cell_type": "markdown",
   "id": "43078677",
   "metadata": {},
   "source": [
    "This notebook will be used to probe concepts and solve problems in chemistry.  You will refer to the [online textbook](https://openstax.org/details/books/chemistry-2e), and other sources.\n",
    "\n",
    "Your __investigation__ into the history, domain terminology, and fundamental concepts will be  _with this notebook_ combined with your __development__ as an information technology student.  The combination is not arbitrary: many of the tools used by research chemists, indeed scientists in any discipline, are based on information technology.  \n",
    "\n",
    "Thus, a scientist with advanced computer skills has access to avenues otherwise inaccessible, and a computer programmer who has experience with domains in science such as biology or chemistry can offer extra value to industry.  At the end of this course - no matter what your direction -  you will be faster, stronger, and more insightful.  \n",
    "\n",
    "\n",
    "Let's start with an introduction to a few tools."
   ]
  },
  {
   "cell_type": "markdown",
   "id": "d4dadca4",
   "metadata": {},
   "source": []
  }
 ],
 "metadata": {
  "kernelspec": {
   "display_name": "Python 3 (ipykernel)",
   "language": "python",
   "name": "python3"
  },
  "language_info": {
   "codemirror_mode": {
    "name": "ipython",
    "version": 3
   },
   "file_extension": ".py",
   "mimetype": "text/x-python",
   "name": "python",
   "nbconvert_exporter": "python",
   "pygments_lexer": "ipython3",
   "version": "3.9.9"
  }
 },
 "nbformat": 4,
 "nbformat_minor": 5
}
