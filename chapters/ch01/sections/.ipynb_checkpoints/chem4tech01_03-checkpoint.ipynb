{
 "cells": [
  {
   "cell_type": "markdown",
   "id": "e8f6497c",
   "metadata": {},
   "source": [
    "<font color ='0c6142'  size=6)> Chemistry </font> <font color ='708090'  size=3)> for Technology Students at GGC </font> "
   ]
  },
  {
   "cell_type": "markdown",
   "id": "b9932968",
   "metadata": {},
   "source": [
    "<font color ='708090'  size=3)> Physical and Chemical Properties </font> \n",
    "\n",
    "\n",
    "[Textbook: Chapter 1, section 3](https://openstax.org/books/chemistry-2e/pages/1-3-physical-and-chemical-properties)"
   ]
  },
  {
   "cell_type": "markdown",
   "id": "dcfe7504",
   "metadata": {},
   "source": [
    "Computers handle different kinds of data in different ways.  We have already been introduced to numbers and strings.  Another very useful data structure used in Python is __lists__.\n",
    "\n",
    "Lists are, well, it's tempting just to leave that term undefined.  Let's just start with an example.\n",
    "\n",
    "Copy and past the below code into a cell, and the type `shift` + `enter`."
   ]
  },
  {
   "cell_type": "markdown",
   "id": "76e79f1e",
   "metadata": {},
   "source": [
    "`first_list = ['one_item', 'another_element', 3, fred]`"
   ]
  },
  {
   "cell_type": "code",
   "execution_count": null,
   "id": "2b4d2875",
   "metadata": {},
   "outputs": [],
   "source": []
  },
  {
   "cell_type": "markdown",
   "id": "9dd78330",
   "metadata": {},
   "source": [
    "Have a look at the error message and see if you can tell what the problem is.\n",
    "\n",
    "You have a nice list, there.  And there's no problem with the first item (or element).  What kind of data is it?  It's a string, right?  What about the second?  Same, of course.  The third?  You may recognize that.  But the fourth, `fred`, looks like a label of some kind.  In fact, Python thinks you're referring to a variable, but can't find the definition.\n",
    "\n",
    "You can do one of two things to make that list valid.  You can make `fred` a string by putting quotes around it.  Single-quotes `'fred'` or double-quotes `\"fred\"` are equivalent in the eyes of Python.  If you're interested in reading about styles, what is considered professional - and what isn't, there is a [style guide for Python](https://www.python.org/dev/peps/pep-0008/#string-quotes).\n",
    "\n",
    "Or you can set a value, say, `'anystring'`, to `fred`, and then Python will read `fred` and interpret it as `'anystring'`.  Fix the above list the way that you want in the cell below."
   ]
  },
  {
   "cell_type": "code",
   "execution_count": null,
   "id": "12fffc9d",
   "metadata": {},
   "outputs": [],
   "source": []
  },
  {
   "cell_type": "markdown",
   "id": "98583327",
   "metadata": {},
   "source": [
    "Now that you have _used_ a list, it could be good to notice a few things about it.  First, a list can be a list of strings, numbers, variables - or even other things.  And the list can even be a mixture of those.\n",
    "\n",
    "In order for lists to be useful to us, we need to be able to\n",
    "* make lists,\n",
    "* add items to lists, \n",
    "* remove items from lists, and\n",
    "* get items from lists.\n",
    "\n",
    "You've already made a list above, right?  You called it `first_list`.  Let's look at a good way to add items.  It turns out, lists have an attribute called _append_.  It goes like:\n",
    "\n",
    "`first_list.append()`.  Is it obvious that you want to put something in the parentheses?\n",
    "\n",
    "Copy and paste the below code into the cell and type `shift` + `enter`.  \n",
    "\n",
    "`chemical_properties = ['flammability']`"
   ]
  },
  {
   "cell_type": "code",
   "execution_count": null,
   "id": "719d125a",
   "metadata": {},
   "outputs": [],
   "source": []
  },
  {
   "cell_type": "markdown",
   "id": "4469b70b",
   "metadata": {},
   "source": [
    "Now `print(chemical_properties)`."
   ]
  },
  {
   "cell_type": "code",
   "execution_count": null,
   "id": "2bf99135",
   "metadata": {},
   "outputs": [],
   "source": []
  },
  {
   "cell_type": "markdown",
   "id": "5839a4b3",
   "metadata": {},
   "source": [
    "What do you think is going to happen with `chemical_properties.append('toxicity')`?  Enter that in the cell below."
   ]
  },
  {
   "cell_type": "code",
   "execution_count": null,
   "id": "4bd869b6",
   "metadata": {},
   "outputs": [],
   "source": []
  },
  {
   "cell_type": "markdown",
   "id": "9725f5c3",
   "metadata": {},
   "source": [
    "Print again."
   ]
  },
  {
   "cell_type": "code",
   "execution_count": null,
   "id": "208a7233",
   "metadata": {},
   "outputs": [],
   "source": []
  },
  {
   "cell_type": "markdown",
   "id": "87045187",
   "metadata": {},
   "source": [
    "Is that what you expected?  Referring to [Textbook: Chapter 1, section 3](https://openstax.org/books/chemistry-2e/pages/1-3-physical-and-chemical-properties), use `.append` to complete the list of `chemical_properties`."
   ]
  },
  {
   "cell_type": "markdown",
   "id": "1e076a76",
   "metadata": {},
   "source": [
    "We won't be using the the method of removing items from lists as often.  But to be thorough, let's look at it.\n",
    "\n",
    "First, let's define another list.\n",
    "\n",
    "`physical_properties = ['density', 'color', 'hardness', 'melting point', 'boiling point', 'conductivity', 'flim flam']`\n",
    "\n",
    "Copy and paste the list into the cell below, to define it.  Then,\n",
    "\n",
    "`physical_properties.pop()` and print again."
   ]
  },
  {
   "cell_type": "code",
   "execution_count": 1,
   "id": "06de10e6",
   "metadata": {},
   "outputs": [],
   "source": [
    "physical_properties = ['density', 'color', 'hardness', 'melting point', 'boiling point', 'conductivity', 'flim flam']"
   ]
  },
  {
   "cell_type": "code",
   "execution_count": null,
   "id": "1dce294f",
   "metadata": {},
   "outputs": [],
   "source": []
  },
  {
   "cell_type": "markdown",
   "id": "7890d0ef",
   "metadata": {},
   "source": [
    "`physical_properties.pop()`"
   ]
  },
  {
   "cell_type": "markdown",
   "id": "e7f7a7cb",
   "metadata": {},
   "source": [
    "And print."
   ]
  },
  {
   "cell_type": "code",
   "execution_count": null,
   "id": "cb87ce58",
   "metadata": {},
   "outputs": [],
   "source": []
  },
  {
   "cell_type": "markdown",
   "id": "51cb51e4",
   "metadata": {},
   "source": [
    "Now finally, let's talk about how to _get_ items from a list.  This isn't going to be so interesting here, but we will get a lot of value out of it later.\n",
    "\n",
    "It turns out we can \"index\" items in a list bya  number in square brackets.  Lists (and other data structures) index _starting from zero_.  So can you guess what you'll get if you type:\n",
    "\n",
    "`print(physical_properties[0])` ?  Try it."
   ]
  },
  {
   "cell_type": "code",
   "execution_count": null,
   "id": "79c39590",
   "metadata": {},
   "outputs": [],
   "source": []
  },
  {
   "cell_type": "markdown",
   "id": "3cb737c0",
   "metadata": {},
   "source": [
    "As you might imagine, we can do a lot more with lists.  But let's keep it at that for now."
   ]
  },
  {
   "cell_type": "markdown",
   "id": "afd67521",
   "metadata": {},
   "source": [
    "## Exercises"
   ]
  },
  {
   "cell_type": "markdown",
   "id": "2e85c8b8",
   "metadata": {},
   "source": [
    "1. Make lists for \n",
    "    1. Chemical properties,\n",
    "    2. Physical properties,\n",
    "    3. Chemical changes, and\n",
    "    4. Physical changes.\n"
   ]
  },
  {
   "cell_type": "code",
   "execution_count": null,
   "id": "7c7ca792",
   "metadata": {},
   "outputs": [],
   "source": []
  },
  {
   "cell_type": "markdown",
   "id": "a9c8cc81",
   "metadata": {},
   "source": [
    "2.  Add two lists together and print.  For example,\n",
    "\n",
    "    `properties = chemical_properties + physical_properties`  \n",
    "    `print(properties)`"
   ]
  },
  {
   "cell_type": "code",
   "execution_count": null,
   "id": "39db4588",
   "metadata": {},
   "outputs": [],
   "source": []
  },
  {
   "cell_type": "markdown",
   "id": "9cde8326",
   "metadata": {},
   "source": [
    "3. Make a list of the first ten elements in the periodic table.  Give it a sensible name."
   ]
  },
  {
   "cell_type": "code",
   "execution_count": null,
   "id": "380bb1ff",
   "metadata": {},
   "outputs": [],
   "source": []
  },
  {
   "cell_type": "markdown",
   "id": "297b4a41",
   "metadata": {},
   "source": [
    "[Table of Contents](../../../chem4tech.ipynb)  \n",
    "[Chapter 1](../chem4tech_01.ipynb)  \n",
    "[Chapter 1, section 4](../sections/chem4tech01_04.ipynb)"
   ]
  }
 ],
 "metadata": {
  "kernelspec": {
   "display_name": "Python 3 (ipykernel)",
   "language": "python",
   "name": "python3"
  },
  "language_info": {
   "codemirror_mode": {
    "name": "ipython",
    "version": 3
   },
   "file_extension": ".py",
   "mimetype": "text/x-python",
   "name": "python",
   "nbconvert_exporter": "python",
   "pygments_lexer": "ipython3",
   "version": "3.9.9"
  }
 },
 "nbformat": 4,
 "nbformat_minor": 5
}
