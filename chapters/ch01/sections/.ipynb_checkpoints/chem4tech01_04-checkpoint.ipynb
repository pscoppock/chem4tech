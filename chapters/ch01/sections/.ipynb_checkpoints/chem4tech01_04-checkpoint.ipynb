{
 "cells": [
  {
   "cell_type": "markdown",
   "id": "71a9e22b",
   "metadata": {},
   "source": [
    "<font color ='0c6142'  size=6)> Chemistry </font> <font color ='708090'  size=3)> for Technology Students at GGC </font> "
   ]
  },
  {
   "cell_type": "markdown",
   "id": "97048d38",
   "metadata": {},
   "source": [
    "<font color ='708090'  size=3)> Measurements </font>\n",
    "\n",
    "[Textbook: Chapter 1, section 4](https://openstax.org/books/chemistry-2e/pages/1-4-measurements)"
   ]
  },
  {
   "cell_type": "markdown",
   "id": "1d4abf15",
   "metadata": {},
   "source": [
    "### Numbers"
   ]
  },
  {
   "cell_type": "markdown",
   "id": "de13927b",
   "metadata": {},
   "source": [
    "We have been introduced to numbers.  What we _haven't_ yet discussed is the different _kinds_ of numbers.\n",
    "\n",
    "Before we get terms and definitions, let's think of approach it from a practical standpoint.\n",
    "\n",
    "Is it obvious that some things are measured necessarily with whole numbers?  For example, it makes no sense to talk about 1.05 _people_.  That term lacks meaning.  What about points in a hockey game.  There is no score such as 1 to 3.54.  When a teams scores a point, their total points goes immediately from $n$ to $n + 1$.\n",
    "\n",
    "Thus, we use counting numbers which introduce the idea of __integers__.  Integers are whole numbers; positive, negative and zero.\n",
    "\n",
    "Computers have a number _type_ called \"integers\".\n",
    "\n",
    "Try `print(type(12))`."
   ]
  },
  {
   "cell_type": "code",
   "execution_count": null,
   "id": "1da37304",
   "metadata": {},
   "outputs": [],
   "source": []
  },
  {
   "cell_type": "markdown",
   "id": "5f4ea025",
   "metadata": {},
   "source": [
    "The other kind of number Python uses is called a **float**.  Floats have decimal digits.  For example, 1.13 is a *float*.  Try `print(type(1.13))`."
   ]
  },
  {
   "cell_type": "code",
   "execution_count": null,
   "id": "fa7a59c1",
   "metadata": {},
   "outputs": [],
   "source": []
  },
  {
   "cell_type": "markdown",
   "id": "27fc7c9d",
   "metadata": {},
   "source": [
    "### Units"
   ]
  },
  {
   "attachments": {},
   "cell_type": "markdown",
   "id": "5363610b",
   "metadata": {},
   "source": [
    "So it's really tempting to gloss over units.  \n",
    "\n",
    "Suppose someone asked you how old you are.  If you say, \"52\", that would communicate the message well enough, right?  That would give the asker a pretty good idea of what year you were born, if you're old enough to buy vodka, and if you remember when Barack Obama was a Senator.  And if the asker said, \"52 what?\", you would think they were a little silly or unpleasant.\n",
    "\n",
    "Likewise, if you told your father you drove 110 in his brand new Yugo, he would know you were lying to him.  \n",
    "\n",
    "* First, it takes about 5 min to get a Yugo up to 45 mph, and no Yugo has ever made it to 50.  \n",
    "* Second, they have been out of production for a long time, so he would know he doesn't have a brand new Yugo.  \n",
    "* And third: because you wouldn't be caught dead driving a one.\n",
    "\n",
    "But interestingly, your dad would never say to you, \"110 *what*?\"   \n",
    "\n",
    "\"110 feet per second?  110 inches per year?  Come on, junior!  Be clear!\" \n",
    "\n",
    "<img src=\"../../../images/yugo.jpg\" width=”1” height=”200”/>\n",
    "\n",
    "\n",
    "He would just assume he knew what you meant, and wouldn't believe you."
   ]
  },
  {
   "cell_type": "markdown",
   "id": "08cf60eb",
   "metadata": {},
   "source": [
    "## Exercises"
   ]
  },
  {
   "cell_type": "code",
   "execution_count": null,
   "id": "afef847c",
   "metadata": {},
   "outputs": [],
   "source": []
  },
  {
   "cell_type": "markdown",
   "id": "67b93396",
   "metadata": {},
   "source": [
    "***\n",
    "[Table of Contents](../../../chem4tech.ipynb)   \n",
    "[Chapter 1, section 5](../sections/chem4tech01_05.ipynb)"
   ]
  }
 ],
 "metadata": {
  "kernelspec": {
   "display_name": "Python 3 (ipykernel)",
   "language": "python",
   "name": "python3"
  },
  "language_info": {
   "codemirror_mode": {
    "name": "ipython",
    "version": 3
   },
   "file_extension": ".py",
   "mimetype": "text/x-python",
   "name": "python",
   "nbconvert_exporter": "python",
   "pygments_lexer": "ipython3",
   "version": "3.9.9"
  }
 },
 "nbformat": 4,
 "nbformat_minor": 5
}
