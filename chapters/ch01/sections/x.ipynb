{
 "cells": [
  {
   "cell_type": "markdown",
   "id": "343dffe8",
   "metadata": {},
   "source": [
    "# <font color ='0c6142'  size=6)> Chemistry </font> <font color ='708090'  size=3)> for Technology Students at GGC </font> "
   ]
  },
  {
   "cell_type": "markdown",
   "id": "ae994241",
   "metadata": {},
   "source": [
    "<font color ='708090'  size=3)> Chapter 1, section 2 </font> "
   ]
  },
  {
   "cell_type": "markdown",
   "id": "3ece7d09",
   "metadata": {},
   "source": [
    "Wow.  Gorgeous, no?  \n",
    "\n",
    "So go to the [textbook, chapter 1, section 2](https://openstax.org/books/chemistry-2e/pages/1-2-phases-and-classification-of-matter), find some information that is best described with a pie chart.  Use the code shown above as a template to illustrate."
   ]
  },
  {
   "cell_type": "code",
   "execution_count": null,
   "id": "27501e76",
   "metadata": {},
   "outputs": [],
   "source": []
  },
  {
   "cell_type": "markdown",
   "id": "58b84c57",
   "metadata": {},
   "source": [
    "[Table of Contents](../../../chem4tech.ipynb)  \n",
    "[Chapter 1](../chem4tech_01.ipynb)  \n",
    "Back, to [Chapter 1, section 1](../sections/chem4tech01_01.ipynb)  \n",
    "Forward, to [Chapter 1, section 3](../sections/chem4tech01_03.ipynb)"
   ]
  }
 ],
 "metadata": {
  "kernelspec": {
   "display_name": "Python 3 (ipykernel)",
   "language": "python",
   "name": "python3"
  },
  "language_info": {
   "codemirror_mode": {
    "name": "ipython",
    "version": 3
   },
   "file_extension": ".py",
   "mimetype": "text/x-python",
   "name": "python",
   "nbconvert_exporter": "python",
   "pygments_lexer": "ipython3",
   "version": "3.9.9"
  }
 },
 "nbformat": 4,
 "nbformat_minor": 5
}
