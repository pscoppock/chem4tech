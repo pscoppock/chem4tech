{
 "cells": [
  {
   "cell_type": "markdown",
   "id": "df99b1c7",
   "metadata": {},
   "source": [
    "<font color ='0c6142'  size=6)> Chemistry </font> <font color ='708090'  size=3)> for Technology Students at GGC </font> "
   ]
  },
  {
   "cell_type": "markdown",
   "id": "fe0cb26c",
   "metadata": {},
   "source": [
    "</font> <font color ='708090'  size=3)> Chapter 1 </font> "
   ]
  },
  {
   "cell_type": "markdown",
   "id": "08c53ee2",
   "metadata": {},
   "source": [
    "1.  Chemistry in Context  \n",
    "[notebook](./sections/chem4tech01_01.ipynb)  \n",
    "[textbook](https://openstax.org/books/chemistry-2e/pages/1-1-chemistry-in-context)"
   ]
  },
  {
   "cell_type": "markdown",
   "id": "16ad175a",
   "metadata": {},
   "source": [
    "2.  Phases and Classification of Matter  \n",
    "[notebook](./sections/chem4tech01_02.ipynb)  \n",
    "[textbook](https://openstax.org/books/chemistry-2e/pages/1-2-phases-and-classification-of-matter)"
   ]
  },
  {
   "cell_type": "markdown",
   "id": "bcf99186",
   "metadata": {},
   "source": [
    "3.  Physical and Chemical Properties  \n",
    "[notebook](./sections/chem4tech01_03.ipynb)  \n",
    "[textbook](https://openstax.org/books/chemistry-2e/pages/1-3-physical-and-chemical-properties)"
   ]
  },
  {
   "cell_type": "markdown",
   "id": "d0296e6e",
   "metadata": {},
   "source": [
    "4.  Measurements  \n",
    "[notebook](./sections/chem4tech01_04.ipynb)  \n",
    "[textbook](https://openstax.org/books/chemistry-2e/pages/1-4-measurements)"
   ]
  },
  {
   "cell_type": "markdown",
   "id": "b23a79f8",
   "metadata": {},
   "source": [
    "5.  Measurement Uncertainty, Accuracy, and Precision  \n",
    "[notebook](./sections/chem4tech01_05.ipynb)  \n",
    "[textbook](https://openstax.org/books/chemistry-2e/pages/1-5-measurement-uncertainty-accuracy-and-precision)"
   ]
  },
  {
   "cell_type": "markdown",
   "id": "60e71f0c",
   "metadata": {},
   "source": [
    "6.  Mathematical Treatment of Measurement Results  \n",
    "[notebook](./sections/chem4tech01_06.ipynb)  \n",
    "[textbook](https://openstax.org/books/chemistry-2e/pages/1-6-mathematical-treatment-of-measurement-results)"
   ]
  },
  {
   "cell_type": "code",
   "execution_count": null,
   "id": "04eedb32",
   "metadata": {},
   "outputs": [],
   "source": []
  }
 ],
 "metadata": {
  "kernelspec": {
   "display_name": "Python 3 (ipykernel)",
   "language": "python",
   "name": "python3"
  },
  "language_info": {
   "codemirror_mode": {
    "name": "ipython",
    "version": 3
   },
   "file_extension": ".py",
   "mimetype": "text/x-python",
   "name": "python",
   "nbconvert_exporter": "python",
   "pygments_lexer": "ipython3",
   "version": "3.9.9"
  }
 },
 "nbformat": 4,
 "nbformat_minor": 5
}
