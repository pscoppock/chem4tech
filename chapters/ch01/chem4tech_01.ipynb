{
 "cells": [
  {
   "cell_type": "markdown",
   "id": "df99b1c7",
   "metadata": {},
   "source": [
    "<font color ='0c6142'  size=6)> Chemistry </font> <font color ='708090'  size=3)> for Technology Students at GGC </font> "
   ]
  },
  {
   "cell_type": "markdown",
   "id": "fe0cb26c",
   "metadata": {},
   "source": [
    "</font> <font color ='708090'  size=3)> Chapter 1 </font> "
   ]
  },
  {
   "cell_type": "markdown",
   "id": "08c53ee2",
   "metadata": {},
   "source": [
    "[1.  What is Chemistry?](./ch01/sections/chem4ts01_01.ipynb)  \n",
    "Chemistry is the study of materials.  What are materials?  That may be an easy question to answer (...wait - Is it?...) but it immediately suggests other questions.  How are we going to describe it?  Who cares?  What can we do with it?  If someone else describes it to you, how can you know what they mean and what they don't mean?  This section takes aim at some of these questions."
   ]
  },
  {
   "cell_type": "code",
   "execution_count": null,
   "id": "4af3d701",
   "metadata": {},
   "outputs": [],
   "source": []
  }
 ],
 "metadata": {
  "kernelspec": {
   "display_name": "Python 3 (ipykernel)",
   "language": "python",
   "name": "python3"
  },
  "language_info": {
   "codemirror_mode": {
    "name": "ipython",
    "version": 3
   },
   "file_extension": ".py",
   "mimetype": "text/x-python",
   "name": "python",
   "nbconvert_exporter": "python",
   "pygments_lexer": "ipython3",
   "version": "3.9.9"
  }
 },
 "nbformat": 4,
 "nbformat_minor": 5
}
