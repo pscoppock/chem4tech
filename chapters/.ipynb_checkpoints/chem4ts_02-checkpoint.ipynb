{
 "cells": [
  {
   "cell_type": "markdown",
   "id": "16bc919c",
   "metadata": {},
   "source": [
    "<font color ='0c6142'  size=6)> Chemistry </font> <font color ='708090'  size=3)> for Technology Students at GGC </font> \n"
   ]
  },
  {
   "cell_type": "markdown",
   "id": "df99b1c7",
   "metadata": {},
   "source": [
    "# <font color = '111'> Chapter 1.  Materials and Measurement </font>"
   ]
  },
  {
   "cell_type": "code",
   "execution_count": null,
   "id": "8dc33d84",
   "metadata": {},
   "outputs": [],
   "source": []
  }
 ],
 "metadata": {
  "kernelspec": {
   "display_name": "Python 3 (ipykernel)",
   "language": "python",
   "name": "python3"
  },
  "language_info": {
   "codemirror_mode": {
    "name": "ipython",
    "version": 3
   },
   "file_extension": ".py",
   "mimetype": "text/x-python",
   "name": "python",
   "nbconvert_exporter": "python",
   "pygments_lexer": "ipython3",
   "version": "3.9.9"
  }
 },
 "nbformat": 4,
 "nbformat_minor": 5
}
