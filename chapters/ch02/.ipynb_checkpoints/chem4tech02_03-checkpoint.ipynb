{
 "cells": [
  {
   "cell_type": "markdown",
   "id": "16bc919c",
   "metadata": {},
   "source": [
    "<font color ='0c6142'  size=6)> Chemistry </font> <font color ='708090'  size=3)> for Technology Students at GGC </font> \n"
   ]
  },
  {
   "cell_type": "markdown",
   "id": "df99b1c7",
   "metadata": {},
   "source": []
  },
  {
   "cell_type": "code",
   "execution_count": null,
   "id": "0387f983",
   "metadata": {},
   "outputs": [],
   "source": []
  },
  {
   "cell_type": "markdown",
   "id": "30a80365",
   "metadata": {},
   "source": [
    "$^M_Z\\mathrm{X}^c_n$"
   ]
  },
  {
   "cell_type": "code",
   "execution_count": null,
   "id": "d75955b6",
   "metadata": {},
   "outputs": [],
   "source": [
    "p = 2\n"
   ]
  },
  {
   "cell_type": "code",
   "execution_count": 19,
   "id": "f95f2347",
   "metadata": {},
   "outputs": [
    {
     "ename": "KeyError",
     "evalue": "'X'",
     "output_type": "error",
     "traceback": [
      "\u001b[0;31m---------------------------------------------------------------------------\u001b[0m",
      "\u001b[0;31mKeyError\u001b[0m                                  Traceback (most recent call last)",
      "Input \u001b[0;32mIn [19]\u001b[0m, in \u001b[0;36m<cell line: 8>\u001b[0;34m()\u001b[0m\n\u001b[1;32m      6\u001b[0m \u001b[38;5;28;01melif\u001b[39;00m c \u001b[38;5;241m==\u001b[39m \u001b[38;5;241m0\u001b[39m: cp \u001b[38;5;241m=\u001b[39m \u001b[38;5;124m'\u001b[39m\u001b[38;5;124m'\u001b[39m\n\u001b[1;32m      7\u001b[0m \u001b[38;5;28;01melif\u001b[39;00m c \u001b[38;5;241m<\u001b[39m \u001b[38;5;241m0\u001b[39m: cp \u001b[38;5;241m=\u001b[39m \u001b[38;5;124m'\u001b[39m\u001b[38;5;132;01m{}\u001b[39;00m\u001b[38;5;124m-\u001b[39m\u001b[38;5;124m'\u001b[39m\u001b[38;5;241m.\u001b[39mformat(c)\n\u001b[0;32m----> 8\u001b[0m display(Markdown(\u001b[38;5;124;43m'\u001b[39;49m\u001b[38;5;124;43m$^\u001b[39;49m\u001b[38;5;132;43;01m{}\u001b[39;49;00m\u001b[38;5;124;43m_Z\u001b[39;49m\u001b[38;5;124;43m\\\u001b[39;49m\u001b[38;5;124;43mmathrm\u001b[39;49m\u001b[38;5;132;43;01m{X}\u001b[39;49;00m\u001b[38;5;124;43m^c_n$\u001b[39;49m\u001b[38;5;124;43m'\u001b[39;49m\u001b[38;5;241;43m.\u001b[39;49m\u001b[43mformat\u001b[49m\u001b[43m(\u001b[49m\u001b[43mnp\u001b[49m\u001b[43m)\u001b[49m))\n",
      "\u001b[0;31mKeyError\u001b[0m: 'X'"
     ]
    }
   ],
   "source": [
    "from IPython.display import display, Markdown, Latex\n",
    "\n",
    "neu, p, c, n = 2, 2, 0, 0\n",
    "if n == 0: np = ''\n",
    "if c > 0: cp = '{}+'.format(c)\n",
    "elif c == 0: cp = ''\n",
    "elif c < 0: cp = '{}-'.format(c)\n",
    "display(Markdown('$^{}_Z\\mathrm{X}^c_n$'))"
   ]
  },
  {
   "cell_type": "code",
   "execution_count": 15,
   "id": "27c3116d",
   "metadata": {},
   "outputs": [
    {
     "data": {
      "text/markdown": [
       "$^4_2\\mathrmX^2+_$"
      ],
      "text/plain": [
       "<IPython.core.display.Markdown object>"
      ]
     },
     "metadata": {},
     "output_type": "display_data"
    }
   ],
   "source": [
    "show_symbol(2, 2, 2, 0)"
   ]
  },
  {
   "cell_type": "code",
   "execution_count": null,
   "id": "c2ee78b6",
   "metadata": {},
   "outputs": [],
   "source": []
  }
 ],
 "metadata": {
  "kernelspec": {
   "display_name": "Python 3 (ipykernel)",
   "language": "python",
   "name": "python3"
  },
  "language_info": {
   "codemirror_mode": {
    "name": "ipython",
    "version": 3
   },
   "file_extension": ".py",
   "mimetype": "text/x-python",
   "name": "python",
   "nbconvert_exporter": "python",
   "pygments_lexer": "ipython3",
   "version": "3.9.9"
  }
 },
 "nbformat": 4,
 "nbformat_minor": 5
}
